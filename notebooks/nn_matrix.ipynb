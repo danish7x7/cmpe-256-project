{
 "cells": [
  {
   "cell_type": "code",
   "execution_count": 2,
   "metadata": {},
   "outputs": [],
   "source": [
    "import os\n",
    "import pandas as pd\n",
    "import numpy as np\n",
    "import torch\n",
    "import torch.nn as nn\n",
    "import torch.optim as optim\n",
    "from torch.utils.data import Dataset, DataLoader\n",
    "from sklearn.model_selection import train_test_split\n"
   ]
  },
  {
   "cell_type": "code",
   "execution_count": 3,
   "metadata": {},
   "outputs": [
    {
     "name": "stdout",
     "output_type": "stream",
     "text": [
      "Total items: 289222\n"
     ]
    },
    {
     "data": {
      "text/html": [
       "<div>\n",
       "<style scoped>\n",
       "    .dataframe tbody tr th:only-of-type {\n",
       "        vertical-align: middle;\n",
       "    }\n",
       "\n",
       "    .dataframe tbody tr th {\n",
       "        vertical-align: top;\n",
       "    }\n",
       "\n",
       "    .dataframe thead th {\n",
       "        text-align: right;\n",
       "    }\n",
       "</style>\n",
       "<table border=\"1\" class=\"dataframe\">\n",
       "  <thead>\n",
       "    <tr style=\"text-align: right;\">\n",
       "      <th></th>\n",
       "      <th>image_name</th>\n",
       "      <th>x_1</th>\n",
       "      <th>y_1</th>\n",
       "      <th>x_2</th>\n",
       "      <th>y_2</th>\n",
       "      <th>width</th>\n",
       "      <th>height</th>\n",
       "      <th>area</th>\n",
       "      <th>category_id</th>\n",
       "      <th>category_name</th>\n",
       "      <th>category_type</th>\n",
       "      <th>category_type_name</th>\n",
       "      <th>eval_status</th>\n",
       "      <th>positive_attributes</th>\n",
       "      <th>absolute_path</th>\n",
       "      <th>num_attributes</th>\n",
       "    </tr>\n",
       "  </thead>\n",
       "  <tbody>\n",
       "    <tr>\n",
       "      <th>0</th>\n",
       "      <td>img/Sheer_Pleated-Front_Blouse/img_00000001.jpg</td>\n",
       "      <td>72</td>\n",
       "      <td>79</td>\n",
       "      <td>232</td>\n",
       "      <td>273</td>\n",
       "      <td>160</td>\n",
       "      <td>194</td>\n",
       "      <td>31040</td>\n",
       "      <td>3</td>\n",
       "      <td>Blouse</td>\n",
       "      <td>1</td>\n",
       "      <td>upper-body</td>\n",
       "      <td>train</td>\n",
       "      <td>[717, 818]</td>\n",
       "      <td>../data\\img/Sheer_Pleated-Front_Blouse/img_000...</td>\n",
       "      <td>2</td>\n",
       "    </tr>\n",
       "    <tr>\n",
       "      <th>1</th>\n",
       "      <td>img/Sheer_Pleated-Front_Blouse/img_00000002.jpg</td>\n",
       "      <td>67</td>\n",
       "      <td>59</td>\n",
       "      <td>155</td>\n",
       "      <td>161</td>\n",
       "      <td>88</td>\n",
       "      <td>102</td>\n",
       "      <td>8976</td>\n",
       "      <td>3</td>\n",
       "      <td>Blouse</td>\n",
       "      <td>1</td>\n",
       "      <td>upper-body</td>\n",
       "      <td>train</td>\n",
       "      <td>[717, 818]</td>\n",
       "      <td>../data\\img/Sheer_Pleated-Front_Blouse/img_000...</td>\n",
       "      <td>2</td>\n",
       "    </tr>\n",
       "    <tr>\n",
       "      <th>2</th>\n",
       "      <td>img/Sheer_Pleated-Front_Blouse/img_00000003.jpg</td>\n",
       "      <td>65</td>\n",
       "      <td>65</td>\n",
       "      <td>156</td>\n",
       "      <td>200</td>\n",
       "      <td>91</td>\n",
       "      <td>135</td>\n",
       "      <td>12285</td>\n",
       "      <td>3</td>\n",
       "      <td>Blouse</td>\n",
       "      <td>1</td>\n",
       "      <td>upper-body</td>\n",
       "      <td>val</td>\n",
       "      <td>[141, 717, 837, 956]</td>\n",
       "      <td>../data\\img/Sheer_Pleated-Front_Blouse/img_000...</td>\n",
       "      <td>4</td>\n",
       "    </tr>\n",
       "    <tr>\n",
       "      <th>3</th>\n",
       "      <td>img/Sheer_Pleated-Front_Blouse/img_00000004.jpg</td>\n",
       "      <td>51</td>\n",
       "      <td>62</td>\n",
       "      <td>167</td>\n",
       "      <td>182</td>\n",
       "      <td>116</td>\n",
       "      <td>120</td>\n",
       "      <td>13920</td>\n",
       "      <td>3</td>\n",
       "      <td>Blouse</td>\n",
       "      <td>1</td>\n",
       "      <td>upper-body</td>\n",
       "      <td>train</td>\n",
       "      <td>[716]</td>\n",
       "      <td>../data\\img/Sheer_Pleated-Front_Blouse/img_000...</td>\n",
       "      <td>1</td>\n",
       "    </tr>\n",
       "    <tr>\n",
       "      <th>4</th>\n",
       "      <td>img/Sheer_Pleated-Front_Blouse/img_00000005.jpg</td>\n",
       "      <td>46</td>\n",
       "      <td>88</td>\n",
       "      <td>166</td>\n",
       "      <td>262</td>\n",
       "      <td>120</td>\n",
       "      <td>174</td>\n",
       "      <td>20880</td>\n",
       "      <td>3</td>\n",
       "      <td>Blouse</td>\n",
       "      <td>1</td>\n",
       "      <td>upper-body</td>\n",
       "      <td>test</td>\n",
       "      <td>[349, 405, 717, 810]</td>\n",
       "      <td>../data\\img/Sheer_Pleated-Front_Blouse/img_000...</td>\n",
       "      <td>4</td>\n",
       "    </tr>\n",
       "  </tbody>\n",
       "</table>\n",
       "</div>"
      ],
      "text/plain": [
       "                                        image_name  x_1  y_1  x_2  y_2  width  \\\n",
       "0  img/Sheer_Pleated-Front_Blouse/img_00000001.jpg   72   79  232  273    160   \n",
       "1  img/Sheer_Pleated-Front_Blouse/img_00000002.jpg   67   59  155  161     88   \n",
       "2  img/Sheer_Pleated-Front_Blouse/img_00000003.jpg   65   65  156  200     91   \n",
       "3  img/Sheer_Pleated-Front_Blouse/img_00000004.jpg   51   62  167  182    116   \n",
       "4  img/Sheer_Pleated-Front_Blouse/img_00000005.jpg   46   88  166  262    120   \n",
       "\n",
       "   height   area  category_id category_name  category_type category_type_name  \\\n",
       "0     194  31040            3        Blouse              1         upper-body   \n",
       "1     102   8976            3        Blouse              1         upper-body   \n",
       "2     135  12285            3        Blouse              1         upper-body   \n",
       "3     120  13920            3        Blouse              1         upper-body   \n",
       "4     174  20880            3        Blouse              1         upper-body   \n",
       "\n",
       "  eval_status   positive_attributes  \\\n",
       "0       train            [717, 818]   \n",
       "1       train            [717, 818]   \n",
       "2         val  [141, 717, 837, 956]   \n",
       "3       train                 [716]   \n",
       "4        test  [349, 405, 717, 810]   \n",
       "\n",
       "                                       absolute_path  num_attributes  \n",
       "0  ../data\\img/Sheer_Pleated-Front_Blouse/img_000...               2  \n",
       "1  ../data\\img/Sheer_Pleated-Front_Blouse/img_000...               2  \n",
       "2  ../data\\img/Sheer_Pleated-Front_Blouse/img_000...               4  \n",
       "3  ../data\\img/Sheer_Pleated-Front_Blouse/img_000...               1  \n",
       "4  ../data\\img/Sheer_Pleated-Front_Blouse/img_000...               4  "
      ]
     },
     "execution_count": 3,
     "metadata": {},
     "output_type": "execute_result"
    }
   ],
   "source": [
    "items_df = pd.read_csv(\"../data/cleaned_data/fashion_dataset.csv\")\n",
    "print(\"Total items:\", len(items_df))\n",
    "items_df.head()\n"
   ]
  },
  {
   "cell_type": "code",
   "execution_count": 4,
   "metadata": {},
   "outputs": [
    {
     "name": "stdout",
     "output_type": "stream",
     "text": [
      "Synthetic interactions: (10000, 3)\n"
     ]
    },
    {
     "data": {
      "text/html": [
       "<div>\n",
       "<style scoped>\n",
       "    .dataframe tbody tr th:only-of-type {\n",
       "        vertical-align: middle;\n",
       "    }\n",
       "\n",
       "    .dataframe tbody tr th {\n",
       "        vertical-align: top;\n",
       "    }\n",
       "\n",
       "    .dataframe thead th {\n",
       "        text-align: right;\n",
       "    }\n",
       "</style>\n",
       "<table border=\"1\" class=\"dataframe\">\n",
       "  <thead>\n",
       "    <tr style=\"text-align: right;\">\n",
       "      <th></th>\n",
       "      <th>user_idx</th>\n",
       "      <th>item_idx</th>\n",
       "      <th>rating</th>\n",
       "    </tr>\n",
       "  </thead>\n",
       "  <tbody>\n",
       "    <tr>\n",
       "      <th>0</th>\n",
       "      <td>0</td>\n",
       "      <td>223831</td>\n",
       "      <td>4</td>\n",
       "    </tr>\n",
       "    <tr>\n",
       "      <th>1</th>\n",
       "      <td>0</td>\n",
       "      <td>207506</td>\n",
       "      <td>1</td>\n",
       "    </tr>\n",
       "    <tr>\n",
       "      <th>2</th>\n",
       "      <td>0</td>\n",
       "      <td>58267</td>\n",
       "      <td>4</td>\n",
       "    </tr>\n",
       "    <tr>\n",
       "      <th>3</th>\n",
       "      <td>0</td>\n",
       "      <td>282163</td>\n",
       "      <td>4</td>\n",
       "    </tr>\n",
       "    <tr>\n",
       "      <th>4</th>\n",
       "      <td>0</td>\n",
       "      <td>242872</td>\n",
       "      <td>2</td>\n",
       "    </tr>\n",
       "  </tbody>\n",
       "</table>\n",
       "</div>"
      ],
      "text/plain": [
       "   user_idx  item_idx  rating\n",
       "0         0    223831       4\n",
       "1         0    207506       1\n",
       "2         0     58267       4\n",
       "3         0    282163       4\n",
       "4         0    242872       2"
      ]
     },
     "execution_count": 4,
     "metadata": {},
     "output_type": "execute_result"
    }
   ],
   "source": [
    "num_users = 500\n",
    "num_items = len(items_df)\n",
    "rng = np.random.default_rng(42)\n",
    "\n",
    "rows = []\n",
    "for u in range(num_users):\n",
    "    # pick 20 distinct items per user\n",
    "    picks = rng.choice(num_items, size=20, replace=False)\n",
    "    for i in picks:\n",
    "        rating = rng.integers(1, 6)       # ratings in [1,5]\n",
    "        rows.append((u, i, rating))\n",
    "\n",
    "inter_df = pd.DataFrame(rows, columns=[\"user_idx\",\"item_idx\",\"rating\"])\n",
    "print(\"Synthetic interactions:\", inter_df.shape)\n",
    "inter_df.head()\n"
   ]
  },
  {
   "cell_type": "code",
   "execution_count": 5,
   "metadata": {},
   "outputs": [
    {
     "name": "stdout",
     "output_type": "stream",
     "text": [
      "Train: 6000 Val: 2000 Test: 2000\n"
     ]
    }
   ],
   "source": [
    "train_val, test_df = train_test_split(inter_df, test_size=0.2, random_state=42)\n",
    "train_df, val_df   = train_test_split(train_val, test_size=0.25, random_state=42)\n",
    "\n",
    "print(\"Train:\", len(train_df), \"Val:\", len(val_df), \"Test:\", len(test_df))\n"
   ]
  },
  {
   "cell_type": "code",
   "execution_count": 6,
   "metadata": {},
   "outputs": [],
   "source": [
    "class CFDataset(Dataset):\n",
    "    def __init__(self, df):\n",
    "        self.users   = torch.tensor(df[\"user_idx\"].values, dtype=torch.long)\n",
    "        self.items   = torch.tensor(df[\"item_idx\"].values, dtype=torch.long)\n",
    "        self.ratings = torch.tensor(df[\"rating\"].values,   dtype=torch.float32)\n",
    "\n",
    "    def __len__(self):\n",
    "        return len(self.ratings)\n",
    "\n",
    "    def __getitem__(self, idx):\n",
    "        return self.users[idx], self.items[idx], self.ratings[idx]\n"
   ]
  },
  {
   "cell_type": "code",
   "execution_count": 7,
   "metadata": {},
   "outputs": [],
   "source": [
    "batch_size = 512\n",
    "train_loader = DataLoader(CFDataset(train_df), batch_size=batch_size, shuffle=True)\n",
    "val_loader   = DataLoader(CFDataset(val_df),   batch_size=batch_size, shuffle=False)\n",
    "test_loader  = DataLoader(CFDataset(test_df),  batch_size=batch_size, shuffle=False)\n"
   ]
  },
  {
   "cell_type": "code",
   "execution_count": 8,
   "metadata": {},
   "outputs": [],
   "source": [
    "class MFNN(nn.Module):\n",
    "    def __init__(self, n_users, n_items, emb_size=32, hidden_layers=[64,32]):\n",
    "        super().__init__()\n",
    "        self.user_emb = nn.Embedding(n_users, emb_size)\n",
    "        self.item_emb = nn.Embedding(n_items, emb_size)\n",
    "\n",
    "        layers = []\n",
    "        in_dim = emb_size * 2\n",
    "        for h in hidden_layers:\n",
    "            layers += [nn.Linear(in_dim, h), nn.ReLU()]\n",
    "            in_dim = h\n",
    "        layers.append(nn.Linear(in_dim, 1))\n",
    "        self.mlp = nn.Sequential(*layers)\n",
    "\n",
    "    def forward(self, u, i):\n",
    "        u_e = self.user_emb(u)\n",
    "        i_e = self.item_emb(i)\n",
    "        x   = torch.cat([u_e, i_e], dim=-1)\n",
    "        return self.mlp(x).squeeze()\n"
   ]
  },
  {
   "cell_type": "code",
   "execution_count": 21,
   "metadata": {},
   "outputs": [],
   "source": [
    "device    = torch.device(\"cuda\" if torch.cuda.is_available() else \"cpu\")\n",
    "model     = MFNN(num_users, num_items).to(device)\n",
    "criterion = nn.MSELoss()\n",
    "optimizer = optim.Adam(model.parameters(), lr=1e-3)\n",
    "num_epochs = 20\n"
   ]
  },
  {
   "cell_type": "code",
   "execution_count": 22,
   "metadata": {},
   "outputs": [
    {
     "name": "stdout",
     "output_type": "stream",
     "text": [
      "Epoch 1/20  Train MSE: 9.3513  Val MSE: 8.2427\n",
      "Epoch 2/20  Train MSE: 7.2608  Val MSE: 5.9810\n",
      "Epoch 3/20  Train MSE: 4.8711  Val MSE: 3.6491\n",
      "Epoch 4/20  Train MSE: 2.8943  Val MSE: 2.3314\n",
      "Epoch 5/20  Train MSE: 2.1919  Val MSE: 2.1758\n",
      "Epoch 6/20  Train MSE: 2.0830  Val MSE: 2.0856\n",
      "Epoch 7/20  Train MSE: 1.9670  Val MSE: 2.0588\n",
      "Epoch 8/20  Train MSE: 1.9232  Val MSE: 2.0557\n",
      "Epoch 9/20  Train MSE: 1.8810  Val MSE: 2.0533\n",
      "Epoch 10/20  Train MSE: 1.8440  Val MSE: 2.0577\n",
      "Epoch 11/20  Train MSE: 1.8100  Val MSE: 2.0586\n",
      "Epoch 12/20  Train MSE: 1.7768  Val MSE: 2.0626\n",
      "Epoch 13/20  Train MSE: 1.7455  Val MSE: 2.0622\n",
      "Epoch 14/20  Train MSE: 1.7145  Val MSE: 2.0650\n",
      "Epoch 15/20  Train MSE: 1.6860  Val MSE: 2.0668\n",
      "Epoch 16/20  Train MSE: 1.6565  Val MSE: 2.0731\n",
      "Epoch 17/20  Train MSE: 1.6278  Val MSE: 2.0749\n",
      "Epoch 18/20  Train MSE: 1.5991  Val MSE: 2.0790\n",
      "Epoch 19/20  Train MSE: 1.5707  Val MSE: 2.0852\n",
      "Epoch 20/20  Train MSE: 1.5436  Val MSE: 2.0888\n"
     ]
    }
   ],
   "source": [
    "for epoch in range(1, num_epochs+1):\n",
    "    # train\n",
    "    model.train()\n",
    "    train_loss = 0\n",
    "    for u,i,r in train_loader:\n",
    "        u,i,r = u.to(device), i.to(device), r.to(device)\n",
    "        pred  = model(u,i)\n",
    "        loss  = criterion(pred, r)\n",
    "        optimizer.zero_grad()\n",
    "        loss.backward()\n",
    "        optimizer.step()\n",
    "        train_loss += loss.item() * r.size(0)\n",
    "    train_loss /= len(train_loader.dataset)\n",
    "\n",
    "    # validate\n",
    "    model.eval()\n",
    "    val_loss = 0\n",
    "    with torch.no_grad():\n",
    "        for u,i,r in val_loader:\n",
    "            u,i,r = u.to(device), i.to(device), r.to(device)\n",
    "            val_loss += criterion(model(u,i), r).item() * r.size(0)\n",
    "    val_loss /= len(val_loader.dataset)\n",
    "\n",
    "    print(f\"Epoch {epoch}/{num_epochs}  \"\n",
    "          f\"Train MSE: {train_loss:.4f}  \"\n",
    "          f\"Val MSE: {val_loss:.4f}\")\n"
   ]
  },
  {
   "cell_type": "code",
   "execution_count": 23,
   "metadata": {},
   "outputs": [
    {
     "name": "stdout",
     "output_type": "stream",
     "text": [
      "Test RMSE: 1.4766\n"
     ]
    }
   ],
   "source": [
    "import math\n",
    "\n",
    "model.eval()\n",
    "mse = 0\n",
    "with torch.no_grad():\n",
    "    for u,i,r in test_loader:\n",
    "        u,i,r = u.to(device), i.to(device), r.to(device)\n",
    "        mse   += criterion(model(u,i), r).item() * r.size(0)\n",
    "mse  /= len(test_loader.dataset)\n",
    "rmse = math.sqrt(mse)\n",
    "print(f\"Test RMSE: {rmse:.4f}\")\n"
   ]
  },
  {
   "cell_type": "code",
   "execution_count": 24,
   "metadata": {},
   "outputs": [
    {
     "name": "stdout",
     "output_type": "stream",
     "text": [
      "Saved model → ../models/mfnn_cf.pth\n"
     ]
    }
   ],
   "source": [
    "os.makedirs(\"../models\", exist_ok=True)\n",
    "torch.save(model.state_dict(), \"../models/mfnn_cf.pth\")\n",
    "print(\"Saved model → ../models/mfnn_cf.pth\")\n"
   ]
  }
 ],
 "metadata": {
  "kernelspec": {
   "display_name": "Python 3",
   "language": "python",
   "name": "python3"
  },
  "language_info": {
   "codemirror_mode": {
    "name": "ipython",
    "version": 3
   },
   "file_extension": ".py",
   "mimetype": "text/x-python",
   "name": "python",
   "nbconvert_exporter": "python",
   "pygments_lexer": "ipython3",
   "version": "3.12.10"
  }
 },
 "nbformat": 4,
 "nbformat_minor": 2
}
