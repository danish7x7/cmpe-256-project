{
 "cells": [
  {
   "cell_type": "code",
   "execution_count": null,
   "id": "8d3da2f2-2155-49df-9119-79bec4aed6ee",
   "metadata": {},
   "outputs": [],
   "source": [
    "import os\n",
    "import numpy as np\n",
    "import pandas as pd\n",
    "import matplotlib.pyplot as plt\n",
    "import seaborn as sns\n",
    "from collections import Counter\n",
    "import random\n",
    "from PIL import Image\n",
    "import torch\n",
    "from mlxtend.frequent_patterns import apriori, association_rules\n",
    "\n",
    "np.random.seed(42)"
   ]
  },
  {
   "cell_type": "code",
   "execution_count": null,
   "id": "7e924a46-d3ad-4224-8a4e-65504f47c7bb",
   "metadata": {},
   "outputs": [],
   "source": [
    "fashion_df = pd.read_csv(\"../data/cleaned_data/fashion_dataset.csv\")"
   ]
  },
  {
   "cell_type": "code",
   "execution_count": null,
   "id": "c31bd8f5-9b94-4fab-be33-708624cd55a9",
   "metadata": {},
   "outputs": [],
   "source": [
    "def load_attributes_cloth(file_path):\n",
    "    with open(file_path, 'r') as f:\n",
    "        lines = f.readlines()\n",
    "    \n",
    "    num_attributes = int(lines[0].strip())\n",
    "    columns = lines[1].strip().split()\n",
    "    \n",
    "    data = []\n",
    "    for i in range(2, len(lines)):\n",
    "        line = lines[i].strip()\n",
    "        parts = line.split()\n",
    "        \n",
    "        attr_type = int(parts[-1])\n",
    "        attr_name = ' '.join(parts[:-1])\n",
    "        \n",
    "        attr_id = i - 2\n",
    "        \n",
    "        data.append([attr_id, attr_name, attr_type])\n",
    "    \n",
    "    attr_df = pd.DataFrame(data, columns=['attr_id', 'attr_name', 'attr_type'])\n",
    "    attr_df['attr_type_name'] = attr_df['attr_type'].map({\n",
    "        1: 'texture', \n",
    "        2: 'fabric', \n",
    "        3: 'shape', \n",
    "        4: 'part', \n",
    "        5: 'style'\n",
    "    })\n",
    "    \n",
    "    return attr_df\n",
    "attr_df = load_attributes_cloth(\"../data/Anno_coarse/list_attr_cloth.txt\")"
   ]
  },
  {
   "cell_type": "code",
   "execution_count": null,
   "id": "5e94f05d-0e45-4d94-99fb-ea1b38144631",
   "metadata": {},
   "outputs": [],
   "source": [
    "# Extract all unique\n",
    "all_attributes = set()\n",
    "for attrs in fashion_df['positive_attributes']:\n",
    "    all_attributes.update(attrs)\n",
    "print(len(all_attributes))\n",
    "\n",
    "attribute_matrix = []\n",
    "for _, row in fashion_df.iterrows():\n",
    "    attrs = row['positive_attributes']\n",
    "    item_attrs = {attr_id: 1 if attr_id in attrs else 0 for attr_id in all_attributes}\n",
    "    attribute_matrix.append(item_attrs)\n",
    "attribute_matrix = pd.DataFrame(attribute_matrix)\n",
    "\n",
    "frequent_itemsets = apriori(attribute_matrix, min_support=0.01, use_colnames=True)\n",
    "rules = association_rules(frequent_itemsets, metric=\"confidence\", min_threshold=0.5)\n",
    "rules = rules[rules['lift'] >= 1.0]\n",
    "rules = rules.sort_values(['confidence', 'lift'], ascending=False)\n",
    "print(f\"{len(rules)} association rules found\")\n",
    "print(\"\\nTop 10 association rules by confidence:\")\n",
    "display(rules.head(10))\n",
    "\n",
    "# attr_count = Counter(all_attributes)\n",
    "# print(attr_count)\n",
    "\n",
    "# # DF with attribute counts\n",
    "# attr_count_df = pd.DataFrame({\n",
    "#     'attr_id': list(attr_count.keys()),\n",
    "#     'count': list(attr_count.values())\n",
    "# })\n",
    "\n",
    "# attr_count_df['attr_id'] = attr_count_df['attr_id'].astype(str)\n",
    "# attr_df['attr_id'] = attr_df['attr_id'].astype(str)"
   ]
  },
  {
   "cell_type": "code",
   "execution_count": 39,
   "id": "02e01f2b-d91f-4435-a5c8-ced682471d9e",
   "metadata": {},
   "outputs": [],
   "source": [
    "# Merge with attribute names if available\n",
    "attr_count_df = pd.merge(attr_count_df, \n",
    "                           attr_df[['attr_id', 'attr_name', 'attr_type_name']], \n",
    "                           on='attr_id', how='left')\n",
    "\n",
    "# calculate percentage and sort by count\n",
    "attr_count_df['percentage'] = attr_count_df['count'] / len(fashion_df) * 100\n",
    "attr_count_df = attr_count_df.sort_values('count', ascending=False)"
   ]
  },
  {
   "cell_type": "code",
   "execution_count": null,
   "id": "41f34867-54f9-4d75-8e08-cf4c151fffba",
   "metadata": {},
   "outputs": [],
   "source": []
  }
 ],
 "metadata": {
  "kernelspec": {
   "display_name": "Python 3 (ipykernel)",
   "language": "python",
   "name": "python3"
  },
  "language_info": {
   "codemirror_mode": {
    "name": "ipython",
    "version": 3
   },
   "file_extension": ".py",
   "mimetype": "text/x-python",
   "name": "python",
   "nbconvert_exporter": "python",
   "pygments_lexer": "ipython3",
   "version": "3.12.2"
  }
 },
 "nbformat": 4,
 "nbformat_minor": 5
}
